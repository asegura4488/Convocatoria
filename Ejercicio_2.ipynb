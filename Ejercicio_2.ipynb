{
 "cells": [
  {
   "cell_type": "code",
   "execution_count": 1,
   "id": "f1a94524",
   "metadata": {},
   "outputs": [],
   "source": [
    "import numpy as np\n",
    "import matplotlib.pyplot as plt"
   ]
  },
  {
   "cell_type": "markdown",
   "id": "2e3bf8be",
   "metadata": {},
   "source": [
    "# Objetivo y requisitos.\n",
    "\n",
    "1.) Encontrar la parabóla que mejor ajusta un conjunto de puntos. \n",
    "2.) Álgebra lineal y calculo diferencial."
   ]
  },
  {
   "cell_type": "markdown",
   "id": "e22da539",
   "metadata": {},
   "source": [
    "# Metodología\n",
    "\n",
    "1. Hablar sobre el espacio columna y el complemento ortogonal.\n",
    "2. Resolver matricialmente el problema."
   ]
  },
  {
   "cell_type": "code",
   "execution_count": 12,
   "id": "54b68d2f",
   "metadata": {},
   "outputs": [],
   "source": [
    "data = np.loadtxt(\"MinimosCuadratico.txt\")\n",
    "x = data[:,0]\n",
    "b = data[:,1]"
   ]
  },
  {
   "cell_type": "code",
   "execution_count": 13,
   "id": "92d76912",
   "metadata": {},
   "outputs": [
    {
     "data": {
      "text/plain": [
       "<matplotlib.collections.PathCollection at 0x7fcccb6d5640>"
      ]
     },
     "execution_count": 13,
     "metadata": {},
     "output_type": "execute_result"
    },
    {
     "data": {
      "image/png": "[encoded data removed]",
      "text/plain": [
       "<Figure size 432x288 with 1 Axes>"
      ]
     },
     "metadata": {
      "needs_background": "light"
     },
     "output_type": "display_data"
    }
   ],
   "source": [
    "plt.scatter(x,b)"
   ]
  },
  {
   "cell_type": "code",
   "execution_count": 14,
   "id": "429ffe47",
   "metadata": {},
   "outputs": [],
   "source": [
    "#a + bx + c*x**2\n",
    "A = np.ones((len(b),3))\n",
    "A[:,1] = x\n",
    "A[:,2] = x**2"
   ]
  },
  {
   "cell_type": "code",
   "execution_count": 15,
   "id": "2eec35f4",
   "metadata": {},
   "outputs": [
    {
     "data": {
      "text/plain": [
       "array([[  1.        ,   0.        ,   0.        ],\n",
       "       [  1.        ,   0.5263158 ,   0.27700832],\n",
       "       [  1.        ,   1.052632  ,   1.10803413],\n",
       "       [  1.        ,   1.578947  ,   2.49307363],\n",
       "       [  1.        ,   2.105263  ,   4.4321323 ],\n",
       "       [  1.        ,   2.631579  ,   6.92520803],\n",
       "       [  1.        ,   3.157895  ,   9.97230083],\n",
       "       [  1.        ,   3.684211  ,  13.57341069],\n",
       "       [  1.        ,   4.210526  ,  17.7285292 ],\n",
       "       [  1.        ,   4.736842  ,  22.43767213],\n",
       "       [  1.        ,   5.263158  ,  27.70083213],\n",
       "       [  1.        ,   5.789474  ,  33.5180092 ],\n",
       "       [  1.        ,   6.315789  ,  39.88919069],\n",
       "       [  1.        ,   6.842105  ,  46.81440083],\n",
       "       [  1.        ,   7.368421  ,  54.29362803],\n",
       "       [  1.        ,   7.894737  ,  62.3268723 ],\n",
       "       [  1.        ,   8.421053  ,  70.91413363],\n",
       "       [  1.        ,   8.947368  ,  80.05539413],\n",
       "       [  1.        ,   9.473684  ,  89.75068853],\n",
       "       [  1.        ,  10.        , 100.        ]])"
      ]
     },
     "execution_count": 15,
     "metadata": {},
     "output_type": "execute_result"
    }
   ],
   "source": [
    "A"
   ]
  },
  {
   "cell_type": "code",
   "execution_count": 16,
   "id": "23b383cd",
   "metadata": {},
   "outputs": [],
   "source": [
    "M = np.dot(A.T,A)\n",
    "bt = np.dot(A.T,b)"
   ]
  },
  {
   "cell_type": "code",
   "execution_count": 17,
   "id": "f0f31b8a",
   "metadata": {},
   "outputs": [
    {
     "data": {
      "text/plain": [
       "array([1.22132054, 6.09075205, 2.9565874 ])"
      ]
     },
     "execution_count": 17,
     "metadata": {},
     "output_type": "execute_result"
    }
   ],
   "source": [
    "param = np.linalg.solve(M,bt)\n",
    "param"
   ]
  },
  {
   "cell_type": "code",
   "execution_count": 18,
   "id": "0afc8ff5",
   "metadata": {},
   "outputs": [
    {
     "data": {
      "text/plain": [
       "[<matplotlib.lines.Line2D at 0x7fcccb62daf0>]"
      ]
     },
     "execution_count": 18,
     "metadata": {},
     "output_type": "execute_result"
    },
    {
     "data": {
      "image/png": "[encoded data removed]",
      "text/plain": [
       "<Figure size 432x288 with 1 Axes>"
      ]
     },
     "metadata": {
      "needs_background": "light"
     },
     "output_type": "display_data"
    }
   ],
   "source": [
    "t = np.linspace(0,10,100)\n",
    "plt.scatter(x,b)\n",
    "plt.plot(t, param[0]+param[1]*t+param[2]*t**2,color='r')"
   ]
  },
  {
   "cell_type": "code",
   "execution_count": null,
   "id": "c637fe52",
   "metadata": {},
   "outputs": [],
   "source": []
  }
 ],
 "metadata": {
  "kernelspec": {
   "display_name": "Python 3",
   "language": "python",
   "name": "python3"
  },
  "language_info": {
   "codemirror_mode": {
    "name": "ipython",
    "version": 3
   },
   "file_extension": ".py",
   "mimetype": "text/x-python",
   "name": "python",
   "nbconvert_exporter": "python",
   "pygments_lexer": "ipython3",
   "version": "3.8.2"
  }
 },
 "nbformat": 4,
 "nbformat_minor": 5
}
